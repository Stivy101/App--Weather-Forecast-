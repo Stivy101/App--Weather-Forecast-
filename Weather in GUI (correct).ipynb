{
 "cells": [
  {
   "cell_type": "code",
   "execution_count": 2,
   "id": "33a70ac0-66ee-4203-a6fb-f16f70fca02a",
   "metadata": {},
   "outputs": [],
   "source": [
    "import requests as req\n",
    "from pprint import pp\n",
    "import json\n",
    "import PySimpleGUI as sg"
   ]
  },
  {
   "cell_type": "code",
   "execution_count": 6,
   "id": "333cc30c-a7bc-47fa-89fe-9c90a2c244a0",
   "metadata": {},
   "outputs": [],
   "source": [
    "def to_get_my_weather():\n",
    "    city = input('Какой город вас интересует?')\n",
    "    server_adress = 'https://api.openweathermap.org/data/2.5/weather'\n",
    "    params = {'q' : city, 'units':'metric', 'lang':'ru',  'appid':'79d1ca96933b0328e1c7e3e7a26cb347'}\n",
    "    data = req.get(server_adress, params = params).json()\n",
    "    if data['cod'] == '404':\n",
    "        output = print('Вы ввели неизвестный город')\n",
    "    else:\n",
    "        desc = data['weather'][0]['description']\n",
    "        temp_now = data['main']['temp']\n",
    "        temp_feels = data['main']['feels_like']\n",
    "        output = print(f'Сегодня в городе: {desc}\\nТемпература воздуха: {temp_now}\\nОщущается как:{temp_feels}')\n",
    "    return output\n",
    "    "
   ]
  },
  {
   "cell_type": "code",
   "execution_count": 14,
   "id": "67256675-5676-4806-b4c3-affde88beb6d",
   "metadata": {},
   "outputs": [
    {
     "name": "stdout",
     "output_type": "stream",
     "text": [
      "Какой город вас интересует?какапутана\n",
      "Вы ввели неизвестный город\n"
     ]
    }
   ],
   "source": [
    "to_get_my_weather()"
   ]
  },
  {
   "cell_type": "code",
   "execution_count": 3,
   "id": "b4730c92-35b4-4433-a6ca-74f16010c4ea",
   "metadata": {},
   "outputs": [],
   "source": [
    "def get_weather_in_gui():\n",
    "    city = values['-IN-']\n",
    "    server_adress = 'https://api.openweathermap.org/data/2.5/weather'\n",
    "    params = {'q' : city, 'units':'metric', 'lang':'ru',  'appid':'79d1ca96933b0328e1c7e3e7a26cb347'}\n",
    "    data = req.get(server_adress, params = params).json()\n",
    "    if data['cod'] == '404':\n",
    "        output = 'No city'\n",
    "    else:\n",
    "        desc = data['weather'][0]['description']\n",
    "        temp_now = data['main']['temp']\n",
    "        temp_feels = data['main']['feels_like']\n",
    "        output = desc, temp_now, temp_feels\n",
    "    return output"
   ]
  },
  {
   "cell_type": "code",
   "execution_count": null,
   "id": "6b5f0fa9-3ae6-4bef-a9be-d0aba7027689",
   "metadata": {},
   "outputs": [],
   "source": [
    "#sg.theme('DarkRed')\n",
    "#layout = [\n",
    "    #[sg.Text('Введите название города')],\n",
    "    #[sg.InputText(key='-IN-')],\n",
    "    #[sg.Button('Показать погоду', enable_events=True, key='-OUT-')],\n",
    "    #[sg.Text(key='-UP-')]\n",
    "#]"
   ]
  },
  {
   "cell_type": "code",
   "execution_count": 5,
   "id": "15dcf877-b43f-4d44-ae3f-b62b5ece236c",
   "metadata": {},
   "outputs": [],
   "source": [
    "sg.theme('DarkRed')\n",
    "layout = [\n",
    "    [sg.Text('Введите название города', font = ('Arial Bold', 20))],\n",
    "    [sg.InputText(key='-IN-')],\n",
    "    [sg.Button('Показать погоду', enable_events=True, key='-OUT-')],\n",
    "    [sg.Text(key='-UP-', expand_x = True, justification='center')]]\n",
    "window = sg.Window('Прогноз погоды в твоём городе на сегодня', layout, finalize=True, size = (500,200))\n",
    "while True:\n",
    "    event, values = window.read()\n",
    "    if event == '-OUT-':\n",
    "        if window['-IN-'].get() == '':\n",
    "            sg.popup('Вы не ввели город!')\n",
    "        else:\n",
    "            res = get_weather_in_gui()\n",
    "            if res == 'No city':\n",
    "                    window_text = window['-UP-']\n",
    "                    window_text.update('Вы ввели неизвестный город')\n",
    "            else:\n",
    "                window_text = window['-UP-']\n",
    "                window_text.update(f'Сегодня в городе: {res[0]}\\nТемпература воздуха: {res[1]} \\nОщущается как: {res[2]}')\n",
    "    if event == sg.WIN_CLOSED or event == 'Выход':\n",
    "        break\n",
    "window.close()"
   ]
  },
  {
   "cell_type": "code",
   "execution_count": null,
   "id": "b3e2909b-7d8d-4617-864c-844a1566bf82",
   "metadata": {},
   "outputs": [],
   "source": []
  }
 ],
 "metadata": {
  "kernelspec": {
   "display_name": "Python 3 (ipykernel)",
   "language": "python",
   "name": "python3"
  },
  "language_info": {
   "codemirror_mode": {
    "name": "ipython",
    "version": 3
   },
   "file_extension": ".py",
   "mimetype": "text/x-python",
   "name": "python",
   "nbconvert_exporter": "python",
   "pygments_lexer": "ipython3",
   "version": "3.8.9"
  }
 },
 "nbformat": 4,
 "nbformat_minor": 5
}
